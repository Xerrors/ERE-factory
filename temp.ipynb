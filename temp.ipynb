{
 "cells": [
  {
   "cell_type": "markdown",
   "metadata": {},
   "source": [
    "# A* 算法的应用与实践"
   ]
  },
  {
   "cell_type": "markdown",
   "metadata": {},
   "source": [
    "这里是一些说明性的文本"
   ]
  },
  {
   "cell_type": "code",
   "execution_count": 1,
   "metadata": {},
   "outputs": [],
   "source": [
    "import numpy as np\n",
    "from heapq import heapify, heappop, heappush\n",
    "\n",
    "np.random.seed(0)"
   ]
  },
  {
   "cell_type": "code",
   "execution_count": 5,
   "metadata": {},
   "outputs": [],
   "source": [
    "def can_access(x, y):\n",
    "    if x < 0 or x >=n or y < 0 or y >= n:\n",
    "        return False\n",
    "    if m[x,y] == -1:\n",
    "        return False\n",
    "\n",
    "    return True\n",
    "\n",
    "def swap_tag(mm, i, j, _i, _j):\n",
    "    t = mm[_i, _j]\n",
    "    mm[_i,_j] = mm[i,j]\n",
    "    mm[i,j] = t\n",
    "    return mm\n",
    "\n",
    "\n",
    "class Node(object):\n",
    "    \n",
    "    def __init__(self, m, steps=0):\n",
    "        self.m = m\n",
    "        self.steps = steps\n",
    "        self.H = self.calc_value() + steps\n",
    "\n",
    "        pos = np.where(m==start)\n",
    "        self.x = pos[0][0]\n",
    "        self.y = pos[1][0]\n",
    "\n",
    "\n",
    "    def calc_value(self):\n",
    "        # 计算所有结点的曼哈顿距离\n",
    "        dist = 0\n",
    "        for x in range(n):\n",
    "            for y in range(n):\n",
    "                if self.m[x,y] == -1:\n",
    "                    continue\n",
    "                ori_x, ori_y = self.m[x,y] // n, self.m[x,y] % n\n",
    "                dist += abs(x-ori_x) + abs(y-ori_y)\n",
    "\n",
    "        return dist\n",
    "\n",
    "\n",
    "    def to_string(self):\n",
    "        return \"\".join([\"{:02d}\".format(i) for i in self.m.reshape(-1)])\n",
    "\n",
    "\n",
    "    def __lt__(self,other):\n",
    "        return self.H < other.H\n",
    "\n",
    "    def __gt__(self,other):\n",
    "        return self.H > other.H\n"
   ]
  },
  {
   "cell_type": "code",
   "execution_count": 6,
   "metadata": {},
   "outputs": [
    {
     "name": "stdout",
     "output_type": "stream",
     "text": [
      "15 (3, 3)\n"
     ]
    },
    {
     "data": {
      "text/plain": [
       "array([[ 7, 10,  8,  6],\n",
       "       [ 3,  0, 13,  4],\n",
       "       [15, 11,  1, 14],\n",
       "       [ 9,  5, 12,  2]])"
      ]
     },
     "execution_count": 6,
     "metadata": {},
     "output_type": "execute_result"
    }
   ],
   "source": [
    "n = 4\n",
    "m = np.arange(n*n).reshape(n,n)\n",
    "# start = np.random.randint(n*n)\n",
    "start = n*n-1\n",
    "start_idx = (n-1, n-1)\n",
    "print(start, start_idx)\n",
    "\n",
    "step = 500\n",
    "\n",
    "i, j = start_idx\n",
    "\n",
    "dirs = [(-1, 0), (1, 0), (0, -1), (0, 1)]\n",
    "\n",
    "while step > 0:\n",
    "    _x, _y = dirs[np.random.randint(4)]\n",
    "    if not can_access(i+_x, j+_y):\n",
    "        continue\n",
    "    \n",
    "    step -= 1\n",
    "    m = swap_tag(m, i, j, i+_x, j+_y)\n",
    "    i, j = i+_x, j+_y\n",
    "\n",
    "ori_m = m.copy()\n",
    "m"
   ]
  },
  {
   "cell_type": "markdown",
   "metadata": {},
   "source": [
    "现在目标就是将 m 恢复到 ori_m，具体步骤就是 A-star 算法的范畴了。"
   ]
  },
  {
   "cell_type": "code",
   "execution_count": null,
   "metadata": {},
   "outputs": [],
   "source": []
  },
  {
   "cell_type": "code",
   "execution_count": 7,
   "metadata": {},
   "outputs": [
    {
     "ename": "IndexError",
     "evalue": "index 0 is out of bounds for axis 0 with size 0",
     "output_type": "error",
     "traceback": [
      "\u001b[0;31m---------------------------------------------------------------------------\u001b[0m",
      "\u001b[0;31mIndexError\u001b[0m                                Traceback (most recent call last)",
      "\u001b[0;32m/tmp/ipykernel_3758261/2775786948.py\u001b[0m in \u001b[0;36m<module>\u001b[0;34m\u001b[0m\n\u001b[1;32m     25\u001b[0m         \u001b[0;32mif\u001b[0m \u001b[0mcan_access\u001b[0m\u001b[0;34m(\u001b[0m\u001b[0mcur\u001b[0m\u001b[0;34m.\u001b[0m\u001b[0mx\u001b[0m\u001b[0;34m+\u001b[0m\u001b[0mi\u001b[0m\u001b[0;34m,\u001b[0m \u001b[0mcur\u001b[0m\u001b[0;34m.\u001b[0m\u001b[0my\u001b[0m\u001b[0;34m+\u001b[0m\u001b[0mj\u001b[0m\u001b[0;34m)\u001b[0m\u001b[0;34m:\u001b[0m\u001b[0;34m\u001b[0m\u001b[0;34m\u001b[0m\u001b[0m\n\u001b[1;32m     26\u001b[0m             \u001b[0mm_\u001b[0m \u001b[0;34m=\u001b[0m \u001b[0mswap_tag\u001b[0m\u001b[0;34m(\u001b[0m\u001b[0mcur\u001b[0m\u001b[0;34m.\u001b[0m\u001b[0mm\u001b[0m\u001b[0;34m.\u001b[0m\u001b[0mcopy\u001b[0m\u001b[0;34m(\u001b[0m\u001b[0;34m)\u001b[0m\u001b[0;34m,\u001b[0m \u001b[0mcur\u001b[0m\u001b[0;34m.\u001b[0m\u001b[0mx\u001b[0m\u001b[0;34m,\u001b[0m \u001b[0mcur\u001b[0m\u001b[0;34m.\u001b[0m\u001b[0my\u001b[0m\u001b[0;34m,\u001b[0m \u001b[0mcur\u001b[0m\u001b[0;34m.\u001b[0m\u001b[0mx\u001b[0m\u001b[0;34m+\u001b[0m\u001b[0mi\u001b[0m\u001b[0;34m,\u001b[0m \u001b[0mcur\u001b[0m\u001b[0;34m.\u001b[0m\u001b[0my\u001b[0m\u001b[0;34m+\u001b[0m\u001b[0mj\u001b[0m\u001b[0;34m)\u001b[0m\u001b[0;34m\u001b[0m\u001b[0;34m\u001b[0m\u001b[0m\n\u001b[0;32m---> 27\u001b[0;31m             \u001b[0mheappush\u001b[0m\u001b[0;34m(\u001b[0m\u001b[0mopen_list\u001b[0m\u001b[0;34m,\u001b[0m \u001b[0mNode\u001b[0m\u001b[0;34m(\u001b[0m\u001b[0mm_\u001b[0m\u001b[0;34m,\u001b[0m \u001b[0mcur\u001b[0m\u001b[0;34m.\u001b[0m\u001b[0msteps\u001b[0m\u001b[0;34m+\u001b[0m\u001b[0;36m1\u001b[0m\u001b[0;34m)\u001b[0m\u001b[0;34m)\u001b[0m\u001b[0;34m\u001b[0m\u001b[0;34m\u001b[0m\u001b[0m\n\u001b[0m\u001b[1;32m     28\u001b[0m \u001b[0;34m\u001b[0m\u001b[0m\n\u001b[1;32m     29\u001b[0m \u001b[0;34m\u001b[0m\u001b[0m\n",
      "\u001b[0;32m/tmp/ipykernel_3758261/314247817.py\u001b[0m in \u001b[0;36m__init__\u001b[0;34m(self, m, steps)\u001b[0m\n\u001b[1;32m     22\u001b[0m \u001b[0;34m\u001b[0m\u001b[0m\n\u001b[1;32m     23\u001b[0m         \u001b[0mpos\u001b[0m \u001b[0;34m=\u001b[0m \u001b[0mnp\u001b[0m\u001b[0;34m.\u001b[0m\u001b[0mwhere\u001b[0m\u001b[0;34m(\u001b[0m\u001b[0mm\u001b[0m\u001b[0;34m==\u001b[0m\u001b[0mstart\u001b[0m\u001b[0;34m)\u001b[0m\u001b[0;34m\u001b[0m\u001b[0;34m\u001b[0m\u001b[0m\n\u001b[0;32m---> 24\u001b[0;31m         \u001b[0mself\u001b[0m\u001b[0;34m.\u001b[0m\u001b[0mx\u001b[0m \u001b[0;34m=\u001b[0m \u001b[0mpos\u001b[0m\u001b[0;34m[\u001b[0m\u001b[0;36m0\u001b[0m\u001b[0;34m]\u001b[0m\u001b[0;34m[\u001b[0m\u001b[0;36m0\u001b[0m\u001b[0;34m]\u001b[0m\u001b[0;34m\u001b[0m\u001b[0;34m\u001b[0m\u001b[0m\n\u001b[0m\u001b[1;32m     25\u001b[0m         \u001b[0mself\u001b[0m\u001b[0;34m.\u001b[0m\u001b[0my\u001b[0m \u001b[0;34m=\u001b[0m \u001b[0mpos\u001b[0m\u001b[0;34m[\u001b[0m\u001b[0;36m1\u001b[0m\u001b[0;34m]\u001b[0m\u001b[0;34m[\u001b[0m\u001b[0;36m0\u001b[0m\u001b[0;34m]\u001b[0m\u001b[0;34m\u001b[0m\u001b[0;34m\u001b[0m\u001b[0m\n\u001b[1;32m     26\u001b[0m \u001b[0;34m\u001b[0m\u001b[0m\n",
      "\u001b[0;31mIndexError\u001b[0m: index 0 is out of bounds for axis 0 with size 0"
     ]
    }
   ],
   "source": [
    "max_search_step = 100000\n",
    "\n",
    "open_list = [Node(ori_m.copy())]\n",
    "clost_list = [] # 作为改进可以存放 hash\n",
    "\n",
    "heapify(open_list)\n",
    "while max_search_step > 0:\n",
    "    max_search_step -= 1\n",
    "    if len(open_list) > 0:\n",
    "        cur = heappop(open_list)\n",
    "    else:\n",
    "        print(\"open list is empty now\")\n",
    "        break\n",
    "\n",
    "    if cur.H == 0:\n",
    "        print(\"find\")\n",
    "        break\n",
    "\n",
    "    if cur.to_string() in clost_list:\n",
    "        continue\n",
    "    else:\n",
    "        clost_list.append(cur.to_string())\n",
    "\n",
    "    for i, j in dirs:\n",
    "        if can_access(cur.x+i, cur.y+j):\n",
    "            m_ = swap_tag(cur.m.copy(), cur.x, cur.y, cur.x+i, cur.y+j)\n",
    "            heappush(open_list, Node(m_, cur.steps+1))\n",
    "\n",
    "\n",
    "print(\"done\", max_search_step)\n",
    "    "
   ]
  },
  {
   "cell_type": "markdown",
   "metadata": {},
   "source": [
    "另外一个问题就是对已经经过的路径进行判重，就是说之前出现过的状态不能再次出现，之前在处理 8 数码问题的时候，是使用的康托判重来计算的，但是既然想要拓展到 n 维的话，还是"
   ]
  }
 ],
 "metadata": {
  "interpreter": {
   "hash": "a795e4bbbc0aac6e1683cdfe18a3139ba3b5da44f583a29284a3b80215fc75fd"
  },
  "kernelspec": {
   "display_name": "Python 3.9.7 64-bit ('cuda': conda)",
   "language": "python",
   "name": "python3"
  },
  "language_info": {
   "codemirror_mode": {
    "name": "ipython",
    "version": 3
   },
   "file_extension": ".py",
   "mimetype": "text/x-python",
   "name": "python",
   "nbconvert_exporter": "python",
   "pygments_lexer": "ipython3",
   "version": "3.9.7"
  },
  "orig_nbformat": 4
 },
 "nbformat": 4,
 "nbformat_minor": 2
}
